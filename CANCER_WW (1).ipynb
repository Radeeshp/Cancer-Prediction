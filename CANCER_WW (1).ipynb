{
  "nbformat": 4,
  "nbformat_minor": 0,
  "metadata": {
    "colab": {
      "provenance": []
    },
    "kernelspec": {
      "name": "python3",
      "display_name": "Python 3"
    },
    "language_info": {
      "name": "python"
    }
  },
  "cells": [
    {
      "cell_type": "markdown",
      "source": [
        "The nessary packages are imported"
      ],
      "metadata": {
        "id": "QmyTrjjinFUc"
      }
    },
    {
      "cell_type": "code",
      "source": [
        "import pandas as pd\n",
        "import seaborn as sns\n",
        "import matplotlib.pyplot as plt\n",
        "import io\n",
        "import numpy as np\n",
        "from sklearn import datasets\n",
        "from sklearn.model_selection import train_test_split\n",
        "from sklearn.neighbors import KNeighborsClassifier\n",
        "from sklearn.metrics import accuracy_score, classification_report\n",
        "from statistics import mean, stdev\n",
        "from sklearn import preprocessing\n",
        "from sklearn.model_selection import StratifiedKFold\n",
        "from sklearn import linear_model\n",
        "from sklearn.metrics import accuracy_score, confusion_matrix, roc_auc_score, roc_curve\n",
        "from google.colab import files\n",
        "import lightgbm as lgb"
      ],
      "metadata": {
        "id": "I9BLUUQzkNPn"
      },
      "execution_count": null,
      "outputs": []
    },
    {
      "cell_type": "markdown",
      "source": [
        "The File is being uploaded from the hardisk"
      ],
      "metadata": {
        "id": "6yc66LI9nNmm"
      }
    },
    {
      "cell_type": "code",
      "execution_count": null,
      "metadata": {
        "id": "zbviLfoJbSpk"
      },
      "outputs": [],
      "source": [
        "\n",
        "uploaded = files.upload()"
      ]
    },
    {
      "cell_type": "code",
      "source": [],
      "metadata": {
        "id": "sUPxDiZbnmYT"
      },
      "execution_count": null,
      "outputs": []
    },
    {
      "cell_type": "markdown",
      "source": [
        "The uploaded File is read and stored in a dataframe"
      ],
      "metadata": {
        "id": "AGqhtHV-nT6S"
      }
    },
    {
      "cell_type": "code",
      "source": [
        "df = pd.read_csv(io.BytesIO(uploaded['Cancer2.csv']), encoding='latin1')\n",
        "df['ref_context'] = df['ref_context'].str.upper()\n",
        "print(df.columns)\n",
        "print(df)\n"
      ],
      "metadata": {
        "id": "eSUYLagyb7oR",
        "colab": {
          "base_uri": "https://localhost:8080/"
        },
        "outputId": "33141ba0-4fd8-48de-ce2c-f96ee6a1f8dc"
      },
      "execution_count": null,
      "outputs": [
        {
          "output_type": "stream",
          "name": "stderr",
          "text": [
            "<ipython-input-19-51068c064e6b>:1: DtypeWarning: Columns (15,18,19,20,21,22,23,24,35,36,37,39,40,41,42,43,44,45,46,47,48,50,51,52,53,54,55,56,57,58,59,61,62,63,64,65,66,68,70,71,72,73,74,75,76,77,78,79,82,83,84,85,93,94,97,98,99,100,101,102,103,104,106,107,108,109,110,111,112,113,114) have mixed types. Specify dtype option on import or set low_memory=False.\n",
            "  df = pd.read_csv(io.BytesIO(uploaded['Cancer2.csv']), encoding='latin1')\n"
          ]
        },
        {
          "output_type": "stream",
          "name": "stdout",
          "text": [
            "Index(['X1', 'Hugo_Symbol', 'Entrez_Gene_Id', 'Center', 'NCBI_Build',\n",
            "       'Chromosome', 'Start_position', 'End_position', 'Strand',\n",
            "       'Variant_Classification',\n",
            "       ...\n",
            "       'transcript_error', 'NormalRefReads_WU', 'NormalVarReads_WU',\n",
            "       'NormalVAF_WU', 'TumorRefReads_WU', 'TumorVarReads_WU', 'TumorVAF_WU',\n",
            "       'RNARefReads_WU', 'RNAVarReads_WU', 'RNAVAF_WU'],\n",
            "      dtype='object', length=124)\n",
            "       X1    Hugo_Symbol  Entrez_Gene_Id            Center  NCBI_Build  \\\n",
            "0       1         EFCAB7           84455     broad.mit.edu          37   \n",
            "1       1           PDK3            5165     broad.mit.edu          37   \n",
            "2       1         LGALS1            3956     broad.mit.edu          37   \n",
            "3       1          SALL3           27164     broad.mit.edu          37   \n",
            "4       1  RP11-262H14.1               0     broad.mit.edu          37   \n",
            "...    ..            ...             ...               ...         ...   \n",
            "34773   3          DHX34               0  genome.wustl.edu          36   \n",
            "34774   3          TOP3B               0  genome.wustl.edu          36   \n",
            "34775   3          EWSR1               0  genome.wustl.edu          36   \n",
            "34776   3           ETV6               0  genome.wustl.edu          36   \n",
            "34777   3          SRRM2               0  genome.wustl.edu          36   \n",
            "\n",
            "      Chromosome  Start_position  End_position Strand Variant_Classification  \\\n",
            "0              1      63999123.0    63999123.0      +            Splice_Site   \n",
            "1              X      24516944.0    24516944.0      +            Splice_Site   \n",
            "2             22      38075747.0    38075747.0      +                 Silent   \n",
            "3             18      76754198.0    76754198.0      +      Missense_Mutation   \n",
            "4              9      66458183.0    66458183.0      +                    RNA   \n",
            "...          ...             ...           ...    ...                    ...   \n",
            "34773         19             NaN           NaN      +      Missense_Mutation   \n",
            "34774         22             NaN           NaN      +      Missense_Mutation   \n",
            "34775         22             NaN           NaN      +            Splice_Site   \n",
            "34776         12             NaN           NaN      +        Frame_Shift_Del   \n",
            "34777         16             NaN           NaN      +        Frame_Shift_Ins   \n",
            "\n",
            "       ... transcript_error NormalRefReads_WU NormalVarReads_WU NormalVAF_WU  \\\n",
            "0      ...              NaN               NaN               NaN          NaN   \n",
            "1      ...              NaN               NaN               NaN          NaN   \n",
            "2      ...              NaN               NaN               NaN          NaN   \n",
            "3      ...              NaN               NaN               NaN          NaN   \n",
            "4      ...              NaN               NaN               NaN          NaN   \n",
            "...    ...              ...               ...               ...          ...   \n",
            "34773  ...        no_errors             203.0               0.0          0.0   \n",
            "34774  ...        no_errors             596.0               0.0          0.0   \n",
            "34775  ...        no_errors            1118.0               0.0          0.0   \n",
            "34776  ...        no_errors               NaN               NaN          NaN   \n",
            "34777  ...        no_errors            1993.0               0.0          0.0   \n",
            "\n",
            "      TumorRefReads_WU TumorVarReads_WU TumorVAF_WU RNARefReads_WU  \\\n",
            "0                  NaN              NaN         NaN            NaN   \n",
            "1                  NaN              NaN         NaN            NaN   \n",
            "2                  NaN              NaN         NaN            NaN   \n",
            "3                  NaN              NaN         NaN            NaN   \n",
            "4                  NaN              NaN         NaN            NaN   \n",
            "...                ...              ...         ...            ...   \n",
            "34773             87.0             67.0       43.51            8.0   \n",
            "34774            265.0            187.0       41.37           15.0   \n",
            "34775            753.0            176.0       18.95           13.0   \n",
            "34776              NaN              NaN         NaN            NaN   \n",
            "34777           1128.0            634.0       35.98          430.0   \n",
            "\n",
            "      RNAVarReads_WU RNAVAF_WU  \n",
            "0                NaN       NaN  \n",
            "1                NaN       NaN  \n",
            "2                NaN       NaN  \n",
            "3                NaN       NaN  \n",
            "4                NaN       NaN  \n",
            "...              ...       ...  \n",
            "34773            1.0     11.11  \n",
            "34774           15.0     50.00  \n",
            "34775            9.0     26.47  \n",
            "34776            NaN       NaN  \n",
            "34777          227.0     34.55  \n",
            "\n",
            "[34778 rows x 124 columns]\n"
          ]
        }
      ]
    },
    {
      "cell_type": "code",
      "source": [],
      "metadata": {
        "id": "hiUuMF6loMSr"
      },
      "execution_count": null,
      "outputs": []
    },
    {
      "cell_type": "markdown",
      "source": [
        "The given data set has a 2 columns Matched_Norm_Sample_Barcode and Tumour_sample_barcode ,where one means non cancerous and the other means cancerous so we append the matched_norm column to Tumour_sample column,the same is done to Tumour_seq_allel1 and Tumour_Seq_allel2 for the same reason.Since the values in the ref_context columns remain the same for both cancerous and non cancerous we just append it to itself"
      ],
      "metadata": {
        "id": "dm_rGqO5oNtv"
      }
    },
    {
      "cell_type": "code",
      "source": [
        "values = ['Cancer'] * 34778 + ['Not Cancer'] * 34778\n",
        "Cancer_data_raw = pd.DataFrame({\n",
        "    'Tumor_Sample_Barcode': df['Tumor_Sample_Barcode'].append(df['Matched_Norm_Sample_Barcode'], ignore_index=True),\n",
        "    'Tumor_Seq_Allele2': df['Tumor_Seq_Allele2'].append(df['Tumor_Seq_Allele1'], ignore_index=True),\n",
        "#    'Chromosome': df['Chromosome'].append(df['Chromosome'], ignore_index=True),\n",
        "    'Start_Position':df['Start_position'].append(df['Start_position'],ignore_index=True),\n",
        "    'ref_context': df['ref_context'].append(df['ref_context'], ignore_index=True)\n",
        "})\n",
        "Cancer_data_raw['Diagnosis'] = pd.Series(values)\n",
        "\n",
        "print(Cancer_data_raw)\n"
      ],
      "metadata": {
        "id": "6R6UkbLB2Yyu",
        "colab": {
          "base_uri": "https://localhost:8080/"
        },
        "outputId": "4af04c98-ef60-4340-d122-daf750ebe95a"
      },
      "execution_count": null,
      "outputs": [
        {
          "output_type": "stream",
          "name": "stdout",
          "text": [
            "               Tumor_Sample_Barcode Tumor_Seq_Allele2  Start_Position  \\\n",
            "0      TCGA-AB-2901-03A-01W-0733-08                 T      63999123.0   \n",
            "1      TCGA-AB-2901-03A-01W-0733-08                 T      24516944.0   \n",
            "2      TCGA-AB-2901-03A-01W-0733-08                 A      38075747.0   \n",
            "3      TCGA-AB-2901-03A-01W-0733-08                 T      76754198.0   \n",
            "4      TCGA-AB-2901-03A-01W-0733-08                 G      66458183.0   \n",
            "...                             ...               ...             ...   \n",
            "69551  TCGA-AB-3012-11A-01D-0739-09                 G             NaN   \n",
            "69552  TCGA-AB-3012-11A-01D-0739-09                 C             NaN   \n",
            "69553  TCGA-AB-3012-11A-01D-0739-09                 G             NaN   \n",
            "69554  TCGA-AB-3012-11A-01D-0739-09     ATCGATCTCCTCA             NaN   \n",
            "69555  TCGA-AB-3012-11A-01D-0739-09                 -             NaN   \n",
            "\n",
            "                 ref_context   Diagnosis  \n",
            "0      TTTTTCCTGTAGTTTTGTAAA      Cancer  \n",
            "1      TTTTCCTTTTAGGTATATGCA      Cancer  \n",
            "2      AATGTGTGGCCTTTGACTGAA      Cancer  \n",
            "3      CCGCCCCTGCGCGTGCAGCAC      Cancer  \n",
            "4      ATCCCATCCAAGTACTAACCA      Cancer  \n",
            "...                      ...         ...  \n",
            "69551                    NaN  Not Cancer  \n",
            "69552                    NaN  Not Cancer  \n",
            "69553                    NaN  Not Cancer  \n",
            "69554                    NaN  Not Cancer  \n",
            "69555                    NaN  Not Cancer  \n",
            "\n",
            "[69556 rows x 5 columns]\n"
          ]
        },
        {
          "output_type": "stream",
          "name": "stderr",
          "text": [
            "<ipython-input-20-662c72dd1da4>:3: FutureWarning: The series.append method is deprecated and will be removed from pandas in a future version. Use pandas.concat instead.\n",
            "  'Tumor_Sample_Barcode': df['Tumor_Sample_Barcode'].append(df['Matched_Norm_Sample_Barcode'], ignore_index=True),\n",
            "<ipython-input-20-662c72dd1da4>:4: FutureWarning: The series.append method is deprecated and will be removed from pandas in a future version. Use pandas.concat instead.\n",
            "  'Tumor_Seq_Allele2': df['Tumor_Seq_Allele2'].append(df['Tumor_Seq_Allele1'], ignore_index=True),\n",
            "<ipython-input-20-662c72dd1da4>:6: FutureWarning: The series.append method is deprecated and will be removed from pandas in a future version. Use pandas.concat instead.\n",
            "  'Start_Position':df['Start_position'].append(df['Start_position'],ignore_index=True),\n",
            "<ipython-input-20-662c72dd1da4>:7: FutureWarning: The series.append method is deprecated and will be removed from pandas in a future version. Use pandas.concat instead.\n",
            "  'ref_context': df['ref_context'].append(df['ref_context'], ignore_index=True)\n"
          ]
        }
      ]
    },
    {
      "cell_type": "code",
      "source": [],
      "metadata": {
        "id": "MijjK7iuOsLk"
      },
      "execution_count": null,
      "outputs": []
    },
    {
      "cell_type": "markdown",
      "source": [
        "Checking how many unique values in each column"
      ],
      "metadata": {
        "id": "Ye33uQR-p2bQ"
      }
    },
    {
      "cell_type": "code",
      "source": [
        "print(len(Cancer_data_raw['Diagnosis'].unique()))\n",
        "print(len(Cancer_data_raw['Tumor_Seq_Allele2'].unique()))\n",
        "print(len(Cancer_data_raw['ref_context'].unique()))\n"
      ],
      "metadata": {
        "id": "cgUJKx66fV-w",
        "colab": {
          "base_uri": "https://localhost:8080/"
        },
        "outputId": "5db7264e-8a60-4688-e109-98cc58f14304"
      },
      "execution_count": null,
      "outputs": [
        {
          "output_type": "stream",
          "name": "stdout",
          "text": [
            "2\n",
            "670\n",
            "27236\n"
          ]
        }
      ]
    },
    {
      "cell_type": "code",
      "source": [],
      "metadata": {
        "id": "Wv9fRVxEqRLB"
      },
      "execution_count": null,
      "outputs": []
    },
    {
      "cell_type": "markdown",
      "source": [
        "Removing the rows that have null values"
      ],
      "metadata": {
        "id": "erfdwAXCqSAj"
      }
    },
    {
      "cell_type": "code",
      "source": [
        "Cancer_data_raw.replace('-', np.nan, inplace=True)\n",
        "Cancer_data_raw.dropna(subset=[ 'Tumor_Seq_Allele2','ref_context'], inplace=True)\n",
        "\n",
        "print(Cancer_data_raw.isnull().sum())"
      ],
      "metadata": {
        "id": "kUccg8kih4yF",
        "colab": {
          "base_uri": "https://localhost:8080/"
        },
        "outputId": "604edc1b-9cd4-46bc-a8a3-4649c78abc12"
      },
      "execution_count": null,
      "outputs": [
        {
          "output_type": "stream",
          "name": "stdout",
          "text": [
            "Tumor_Sample_Barcode    0\n",
            "Tumor_Seq_Allele2       0\n",
            "Start_Position          0\n",
            "ref_context             0\n",
            "Diagnosis               0\n",
            "dtype: int64\n"
          ]
        }
      ]
    },
    {
      "cell_type": "code",
      "source": [],
      "metadata": {
        "id": "HEzT-rp1uMG0"
      },
      "execution_count": null,
      "outputs": []
    },
    {
      "cell_type": "markdown",
      "source": [
        "We are converting the values in the refcontext into 21 one new columns by taking the values in the 0th position in ref_context as the 1st column and 1th position in ref_context as the 2st column and so on ...."
      ],
      "metadata": {
        "id": "VL6M1yvDqd1Q"
      }
    },
    {
      "cell_type": "code",
      "source": [
        "ref_context=[[],[],[],[],[],[],[],[],[],[],[],[],[],[],[],[],[],[],[],[],[]]\n",
        "i=0\n",
        "for index, row in Cancer_data_raw.iterrows():\n",
        "    val = row['ref_context']\n",
        "\n",
        "\n",
        "\n",
        "for i in range(0,21):\n",
        "  for index, row in Cancer_data_raw.iterrows():\n",
        "    val = row['ref_context']\n",
        "    ref_context[i].append(val[i])\n",
        "\n",
        "  Cancer_data_raw['ref_context'+str(i)]=ref_context[i]\n",
        "\n",
        "print(Cancer_data_raw)"
      ],
      "metadata": {
        "colab": {
          "base_uri": "https://localhost:8080/"
        },
        "id": "q6a6h1sSrFZl",
        "outputId": "ffedb7e5-9836-48da-c29d-958c4067fc78"
      },
      "execution_count": null,
      "outputs": [
        {
          "output_type": "stream",
          "name": "stdout",
          "text": [
            "               Tumor_Sample_Barcode Tumor_Seq_Allele2  Start_Position  \\\n",
            "0      TCGA-AB-2901-03A-01W-0733-08                 T      63999123.0   \n",
            "1      TCGA-AB-2901-03A-01W-0733-08                 T      24516944.0   \n",
            "2      TCGA-AB-2901-03A-01W-0733-08                 A      38075747.0   \n",
            "3      TCGA-AB-2901-03A-01W-0733-08                 T      76754198.0   \n",
            "4      TCGA-AB-2901-03A-01W-0733-08                 G      66458183.0   \n",
            "...                             ...               ...             ...   \n",
            "64357  TCGA-AB-2875-11A-01W-0732-08                 A      98031434.0   \n",
            "64358  TCGA-AB-2875-11A-01W-0732-08               CAC       9821412.0   \n",
            "64370  TCGA-AB-2881-11A-01W-0732-08                 T      25647575.0   \n",
            "64378  TCGA-AB-2881-11A-01W-0732-08                CT      59182564.0   \n",
            "64383  TCGA-AB-2881-11A-01W-0732-08                 C       3766280.0   \n",
            "\n",
            "                   ref_context   Diagnosis ref_context0 ref_context1  \\\n",
            "0        TTTTTCCTGTAGTTTTGTAAA      Cancer            T            T   \n",
            "1        TTTTCCTTTTAGGTATATGCA      Cancer            T            T   \n",
            "2        AATGTGTGGCCTTTGACTGAA      Cancer            A            A   \n",
            "3        CCGCCCCTGCGCGTGCAGCAC      Cancer            C            C   \n",
            "4        ATCCCATCCAAGTACTAACCA      Cancer            A            T   \n",
            "...                        ...         ...          ...          ...   \n",
            "64357    TTACAATCTTAAAAAAAAAAG  Not Cancer            T            T   \n",
            "64358  GACTCAAGCACACCACCACCACC  Not Cancer            G            A   \n",
            "64370    TGAGAAGAGATTTCCAAAATC  Not Cancer            T            G   \n",
            "64378   TTTCTAGGCGCTCTCTCTCTCT  Not Cancer            T            T   \n",
            "64383    TGCAGCCATTCGGGTGTCCAA  Not Cancer            T            G   \n",
            "\n",
            "      ref_context2 ref_context3 ref_context4  ... ref_context11 ref_context12  \\\n",
            "0                T            T            T  ...             G             T   \n",
            "1                T            T            C  ...             G             G   \n",
            "2                T            G            T  ...             T             T   \n",
            "3                G            C            C  ...             C             G   \n",
            "4                C            C            C  ...             G             T   \n",
            "...            ...          ...          ...  ...           ...           ...   \n",
            "64357            A            C            A  ...             A             A   \n",
            "64358            C            T            C  ...             A             C   \n",
            "64370            A            G            A  ...             T             T   \n",
            "64378            T            C            T  ...             T             C   \n",
            "64383            C            A            G  ...             G             G   \n",
            "\n",
            "      ref_context13 ref_context14 ref_context15 ref_context16 ref_context17  \\\n",
            "0                 T             T             T             G             T   \n",
            "1                 T             A             T             A             T   \n",
            "2                 T             G             A             C             T   \n",
            "3                 T             G             C             A             G   \n",
            "4                 A             C             T             A             A   \n",
            "...             ...           ...           ...           ...           ...   \n",
            "64357             A             A             A             A             A   \n",
            "64358             C             A             C             C             A   \n",
            "64370             C             C             A             A             A   \n",
            "64378             T             C             T             C             T   \n",
            "64383             G             T             G             T             C   \n",
            "\n",
            "      ref_context18 ref_context19 ref_context20  \n",
            "0                 A             A             A  \n",
            "1                 G             C             A  \n",
            "2                 G             A             A  \n",
            "3                 C             A             C  \n",
            "4                 C             C             A  \n",
            "...             ...           ...           ...  \n",
            "64357             A             A             G  \n",
            "64358             C             C             A  \n",
            "64370             A             T             C  \n",
            "64378             C             T             C  \n",
            "64383             C             A             A  \n",
            "\n",
            "[48566 rows x 26 columns]\n"
          ]
        }
      ]
    },
    {
      "cell_type": "code",
      "source": [],
      "metadata": {
        "id": "0O_YBXrBvYd6"
      },
      "execution_count": null,
      "outputs": []
    },
    {
      "cell_type": "markdown",
      "source": [
        "We perform encoding to change the values for char to integer type\n",
        "We use the label encoder module from Sklearn"
      ],
      "metadata": {
        "id": "yKN0mqwRufxX"
      }
    },
    {
      "cell_type": "code",
      "source": [
        "\n",
        "# Importing LabelEncoder from Sklearn\n",
        "# library from preprocessing Module.\n",
        "from sklearn.preprocessing import LabelEncoder\n",
        "\n",
        "# Creating a instance of label Encoder.\n",
        "le = LabelEncoder()\n",
        "\n",
        "# Using .fit_transform function to fit label\n",
        "# encoder and return encoded label\n",
        "label_tumor = le.fit_transform(Cancer_data_raw[ 'Tumor_Seq_Allele2'])\n",
        "label_diagnosis=le.fit_transform(Cancer_data_raw['Diagnosis'])\n"
      ],
      "metadata": {
        "id": "RNl73ISxrdXi"
      },
      "execution_count": null,
      "outputs": []
    },
    {
      "cell_type": "markdown",
      "source": [
        "The new labeled data is stored in a new data frame Clean_Cancer_data"
      ],
      "metadata": {
        "id": "CQoKc6KbveAI"
      }
    },
    {
      "cell_type": "code",
      "source": [
        "Clean_Cancer_data=pd.DataFrame({'Tumor_Seq_Allele2':label_tumor})\n",
        "\n",
        "for num in range(0,21):\n",
        "  label_ref_context=le.fit_transform(Cancer_data_raw['ref_context'+str(num)])\n",
        "  Clean_Cancer_data['ref_context_'+str(num)]=label_ref_context\n",
        "Clean_Cancer_data['Diagnosis']=label_diagnosis\n",
        "print(Clean_Cancer_data)"
      ],
      "metadata": {
        "id": "iMoUZjPFK0A-",
        "colab": {
          "base_uri": "https://localhost:8080/"
        },
        "outputId": "a56b48b5-af58-4692-bbf0-2921dd49565b"
      },
      "execution_count": null,
      "outputs": [
        {
          "output_type": "stream",
          "name": "stdout",
          "text": [
            "       Tumor_Seq_Allele2  ref_context_0  ref_context_1  ref_context_2  \\\n",
            "0                    417              3              3              3   \n",
            "1                    417              3              3              3   \n",
            "2                      0              0              0              3   \n",
            "3                    417              1              1              2   \n",
            "4                    287              0              3              1   \n",
            "...                  ...            ...            ...            ...   \n",
            "48561                  0              3              3              0   \n",
            "48562                169              2              0              1   \n",
            "48563                417              3              2              0   \n",
            "48564                245              3              3              3   \n",
            "48565                161              3              2              1   \n",
            "\n",
            "       ref_context_3  ref_context_4  ref_context_5  ref_context_6  \\\n",
            "0                  3              3              1              1   \n",
            "1                  3              1              1              3   \n",
            "2                  2              3              2              3   \n",
            "3                  1              1              1              1   \n",
            "4                  1              1              0              3   \n",
            "...              ...            ...            ...            ...   \n",
            "48561              1              0              0              3   \n",
            "48562              3              1              0              0   \n",
            "48563              2              0              0              2   \n",
            "48564              1              3              0              2   \n",
            "48565              0              2              1              1   \n",
            "\n",
            "       ref_context_7  ref_context_8  ...  ref_context_12  ref_context_13  \\\n",
            "0                  3              2  ...               3               3   \n",
            "1                  3              3  ...               2               3   \n",
            "2                  2              2  ...               3               3   \n",
            "3                  3              2  ...               2               3   \n",
            "4                  1              1  ...               3               0   \n",
            "...              ...            ...  ...             ...             ...   \n",
            "48561              1              3  ...               0               0   \n",
            "48562              2              1  ...               1               1   \n",
            "48563              0              2  ...               3               1   \n",
            "48564              2              1  ...               1               3   \n",
            "48565              0              3  ...               2               2   \n",
            "\n",
            "       ref_context_14  ref_context_15  ref_context_16  ref_context_17  \\\n",
            "0                   3               3               2               3   \n",
            "1                   0               3               0               3   \n",
            "2                   2               0               1               3   \n",
            "3                   2               1               0               2   \n",
            "4                   1               3               0               0   \n",
            "...               ...             ...             ...             ...   \n",
            "48561               0               0               0               0   \n",
            "48562               0               1               1               0   \n",
            "48563               1               0               0               0   \n",
            "48564               1               3               1               3   \n",
            "48565               3               2               3               1   \n",
            "\n",
            "       ref_context_18  ref_context_19  ref_context_20  Diagnosis  \n",
            "0                   0               0               0          0  \n",
            "1                   2               1               0          0  \n",
            "2                   2               0               0          0  \n",
            "3                   1               0               1          0  \n",
            "4                   1               1               0          0  \n",
            "...               ...             ...             ...        ...  \n",
            "48561               0               0               2          1  \n",
            "48562               1               1               0          1  \n",
            "48563               0               3               1          1  \n",
            "48564               1               3               1          1  \n",
            "48565               1               0               0          1  \n",
            "\n",
            "[48566 rows x 23 columns]\n"
          ]
        }
      ]
    },
    {
      "cell_type": "code",
      "source": [],
      "metadata": {
        "id": "yMnYKfS0K5v8"
      },
      "execution_count": null,
      "outputs": []
    },
    {
      "cell_type": "code",
      "source": [
        "# Compute correlation matrix\n",
        "corr = Clean_Cancer_data.corr()\n",
        "print(corr)\n",
        "# Create heatmap using Seaborn\n",
        "sns.heatmap(corr,  cmap='coolwarm', vmin=-1, vmax=1)\n",
        "plt.show()"
      ],
      "metadata": {
        "id": "khUB40D4jHnJ",
        "colab": {
          "base_uri": "https://localhost:8080/",
          "height": 1000
        },
        "outputId": "d095987b-2fcd-45d2-91f7-e4b2a9da2f11"
      },
      "execution_count": null,
      "outputs": [
        {
          "output_type": "stream",
          "name": "stdout",
          "text": [
            "                   Tumor_Seq_Allele2  ref_context_0  ref_context_1  \\\n",
            "Tumor_Seq_Allele2           1.000000       0.026237       0.015550   \n",
            "ref_context_0               0.026237       1.000000       0.110201   \n",
            "ref_context_1               0.015550       0.110201       1.000000   \n",
            "ref_context_2               0.020487       0.077911       0.107990   \n",
            "ref_context_3               0.021293       0.064855       0.076742   \n",
            "ref_context_4               0.027223       0.069979       0.050535   \n",
            "ref_context_5               0.017035       0.051921       0.072004   \n",
            "ref_context_6               0.034546       0.093761       0.062681   \n",
            "ref_context_7               0.028835       0.081747       0.102502   \n",
            "ref_context_8               0.035177       0.085775       0.087442   \n",
            "ref_context_9              -0.018467       0.120964       0.099927   \n",
            "ref_context_10              0.148871      -0.081736      -0.083094   \n",
            "ref_context_11              0.192891       0.066777       0.057510   \n",
            "ref_context_12              0.184375       0.108183       0.073911   \n",
            "ref_context_13              0.155461       0.088287       0.105447   \n",
            "ref_context_14              0.168479       0.055445       0.052547   \n",
            "ref_context_15              0.145381       0.069912       0.046524   \n",
            "ref_context_16              0.139465       0.050226       0.049385   \n",
            "ref_context_17              0.107404       0.022240       0.038979   \n",
            "ref_context_18              0.100406       0.039865       0.026052   \n",
            "ref_context_19              0.091461       0.019905       0.038941   \n",
            "ref_context_20              0.092256       0.037111       0.043416   \n",
            "Diagnosis                  -0.003262       0.000053       0.004292   \n",
            "\n",
            "                   ref_context_2  ref_context_3  ref_context_4  ref_context_5  \\\n",
            "Tumor_Seq_Allele2       0.020487       0.021293       0.027223       0.017035   \n",
            "ref_context_0           0.077911       0.064855       0.069979       0.051921   \n",
            "ref_context_1           0.107990       0.076742       0.050535       0.072004   \n",
            "ref_context_2           1.000000       0.117082       0.058874       0.053825   \n",
            "ref_context_3           0.117082       1.000000       0.111583       0.069583   \n",
            "ref_context_4           0.058874       0.111583       1.000000       0.090560   \n",
            "ref_context_5           0.053825       0.069583       0.090560       1.000000   \n",
            "ref_context_6           0.083681       0.079871       0.080816       0.112218   \n",
            "ref_context_7           0.063877       0.097816       0.082083       0.093475   \n",
            "ref_context_8           0.083451       0.055626       0.076312       0.091398   \n",
            "ref_context_9           0.082905       0.113660       0.080779       0.099674   \n",
            "ref_context_10         -0.066269      -0.087936      -0.077770      -0.100941   \n",
            "ref_context_11          0.067428       0.065383       0.058782       0.091085   \n",
            "ref_context_12          0.078761       0.086928       0.087935       0.095440   \n",
            "ref_context_13          0.087654       0.091102       0.093897       0.081050   \n",
            "ref_context_14          0.054616       0.056330       0.056880       0.078449   \n",
            "ref_context_15          0.043137       0.071100       0.044556       0.054216   \n",
            "ref_context_16          0.039225       0.040520       0.072205       0.049571   \n",
            "ref_context_17          0.039574       0.031988       0.036925       0.071271   \n",
            "ref_context_18          0.026676       0.039305       0.051972       0.034298   \n",
            "ref_context_19          0.010286       0.029692       0.050797       0.022928   \n",
            "ref_context_20          0.022728       0.037018       0.039664       0.038207   \n",
            "Diagnosis               0.004464       0.000467       0.000226      -0.003156   \n",
            "\n",
            "                   ref_context_6  ref_context_7  ref_context_8  ...  \\\n",
            "Tumor_Seq_Allele2       0.034546       0.028835       0.035177  ...   \n",
            "ref_context_0           0.093761       0.081747       0.085775  ...   \n",
            "ref_context_1           0.062681       0.102502       0.087442  ...   \n",
            "ref_context_2           0.083681       0.063877       0.083451  ...   \n",
            "ref_context_3           0.079871       0.097816       0.055626  ...   \n",
            "ref_context_4           0.080816       0.082083       0.076312  ...   \n",
            "ref_context_5           0.112218       0.093475       0.091398  ...   \n",
            "ref_context_6           1.000000       0.133990       0.105621  ...   \n",
            "ref_context_7           0.133990       1.000000       0.172316  ...   \n",
            "ref_context_8           0.105621       0.172316       1.000000  ...   \n",
            "ref_context_9           0.096394       0.141866       0.189053  ...   \n",
            "ref_context_10         -0.090946      -0.177607      -0.149696  ...   \n",
            "ref_context_11          0.094957       0.141327       0.123299  ...   \n",
            "ref_context_12          0.115615       0.140447       0.139186  ...   \n",
            "ref_context_13          0.092563       0.137703       0.126063  ...   \n",
            "ref_context_14          0.062992       0.081643       0.097775  ...   \n",
            "ref_context_15          0.074199       0.086077       0.078987  ...   \n",
            "ref_context_16          0.060196       0.097431       0.071965  ...   \n",
            "ref_context_17          0.041264       0.083930       0.077825  ...   \n",
            "ref_context_18          0.063619       0.069889       0.078589  ...   \n",
            "ref_context_19          0.036104       0.096056       0.059804  ...   \n",
            "ref_context_20          0.034853       0.075689       0.084116  ...   \n",
            "Diagnosis              -0.001324      -0.002217       0.002511  ...   \n",
            "\n",
            "                   ref_context_12  ref_context_13  ref_context_14  \\\n",
            "Tumor_Seq_Allele2        0.184375        0.155461        0.168479   \n",
            "ref_context_0            0.108183        0.088287        0.055445   \n",
            "ref_context_1            0.073911        0.105447        0.052547   \n",
            "ref_context_2            0.078761        0.087654        0.054616   \n",
            "ref_context_3            0.086928        0.091102        0.056330   \n",
            "ref_context_4            0.087935        0.093897        0.056880   \n",
            "ref_context_5            0.095440        0.081050        0.078449   \n",
            "ref_context_6            0.115615        0.092563        0.062992   \n",
            "ref_context_7            0.140447        0.137703        0.081643   \n",
            "ref_context_8            0.139186        0.126063        0.097775   \n",
            "ref_context_9            0.096643        0.103699        0.055153   \n",
            "ref_context_10          -0.093148       -0.123462       -0.025883   \n",
            "ref_context_11           0.318909        0.269957        0.216378   \n",
            "ref_context_12           1.000000        0.292911        0.223702   \n",
            "ref_context_13           0.292911        1.000000        0.235875   \n",
            "ref_context_14           0.223702        0.235875        1.000000   \n",
            "ref_context_15           0.200927        0.214994        0.204273   \n",
            "ref_context_16           0.185161        0.177145        0.188109   \n",
            "ref_context_17           0.153375        0.170485        0.149988   \n",
            "ref_context_18           0.162292        0.140310        0.152423   \n",
            "ref_context_19           0.129357        0.140257        0.120686   \n",
            "ref_context_20           0.148389        0.122428        0.126515   \n",
            "Diagnosis               -0.006476       -0.004055       -0.005768   \n",
            "\n",
            "                   ref_context_15  ref_context_16  ref_context_17  \\\n",
            "Tumor_Seq_Allele2        0.145381        0.139465        0.107404   \n",
            "ref_context_0            0.069912        0.050226        0.022240   \n",
            "ref_context_1            0.046524        0.049385        0.038979   \n",
            "ref_context_2            0.043137        0.039225        0.039574   \n",
            "ref_context_3            0.071100        0.040520        0.031988   \n",
            "ref_context_4            0.044556        0.072205        0.036925   \n",
            "ref_context_5            0.054216        0.049571        0.071271   \n",
            "ref_context_6            0.074199        0.060196        0.041264   \n",
            "ref_context_7            0.086077        0.097431        0.083930   \n",
            "ref_context_8            0.078987        0.071965        0.077825   \n",
            "ref_context_9            0.050453        0.030373        0.041718   \n",
            "ref_context_10          -0.050944       -0.017327       -0.019599   \n",
            "ref_context_11           0.228429        0.179719        0.188821   \n",
            "ref_context_12           0.200927        0.185161        0.153375   \n",
            "ref_context_13           0.214994        0.177145        0.170485   \n",
            "ref_context_14           0.204273        0.188109        0.149988   \n",
            "ref_context_15           1.000000        0.193232        0.145729   \n",
            "ref_context_16           0.193232        1.000000        0.175546   \n",
            "ref_context_17           0.145729        0.175546        1.000000   \n",
            "ref_context_18           0.124101        0.149327        0.180564   \n",
            "ref_context_19           0.121673        0.113623        0.135901   \n",
            "ref_context_20           0.105668        0.126537        0.110457   \n",
            "Diagnosis                0.000168       -0.002442        0.001997   \n",
            "\n",
            "                   ref_context_18  ref_context_19  ref_context_20  Diagnosis  \n",
            "Tumor_Seq_Allele2        0.100406        0.091461        0.092256  -0.003262  \n",
            "ref_context_0            0.039865        0.019905        0.037111   0.000053  \n",
            "ref_context_1            0.026052        0.038941        0.043416   0.004292  \n",
            "ref_context_2            0.026676        0.010286        0.022728   0.004464  \n",
            "ref_context_3            0.039305        0.029692        0.037018   0.000467  \n",
            "ref_context_4            0.051972        0.050797        0.039664   0.000226  \n",
            "ref_context_5            0.034298        0.022928        0.038207  -0.003156  \n",
            "ref_context_6            0.063619        0.036104        0.034853  -0.001324  \n",
            "ref_context_7            0.069889        0.096056        0.075689  -0.002217  \n",
            "ref_context_8            0.078589        0.059804        0.084116   0.002511  \n",
            "ref_context_9            0.058716        0.020688        0.046042  -0.004422  \n",
            "ref_context_10          -0.005104       -0.010094       -0.013595  -0.009890  \n",
            "ref_context_11           0.154906        0.159348        0.150050  -0.002702  \n",
            "ref_context_12           0.162292        0.129357        0.148389  -0.006476  \n",
            "ref_context_13           0.140310        0.140257        0.122428  -0.004055  \n",
            "ref_context_14           0.152423        0.120686        0.126515  -0.005768  \n",
            "ref_context_15           0.124101        0.121673        0.105668   0.000168  \n",
            "ref_context_16           0.149327        0.113623        0.126537  -0.002442  \n",
            "ref_context_17           0.180564        0.135901        0.110457   0.001997  \n",
            "ref_context_18           1.000000        0.185165        0.138974   0.003453  \n",
            "ref_context_19           0.185165        1.000000        0.161687  -0.001198  \n",
            "ref_context_20           0.138974        0.161687        1.000000  -0.002332  \n",
            "Diagnosis                0.003453       -0.001198       -0.002332   1.000000  \n",
            "\n",
            "[23 rows x 23 columns]\n"
          ]
        },
        {
          "output_type": "display_data",
          "data": {
            "text/plain": [
              "<Figure size 640x480 with 2 Axes>"
            ],
            "image/png": "[encoded data removed]"
          },
          "metadata": {}
        }
      ]
    },
    {
      "cell_type": "markdown",
      "source": [
        "Train Test Split:\n",
        "                  The given data is split into training, validation, and test sets.\n"
      ],
      "metadata": {
        "id": "DlGPwpLNrsgE"
      }
    },
    {
      "cell_type": "code",
      "source": [
        "columns=Clean_Cancer_data.columns[0:-1]\n",
        "print(columns)\n",
        "# Split the data into features (X) and target variable (y)\n",
        "X = Clean_Cancer_data[columns]\n",
        "y = Clean_Cancer_data['Diagnosis']\n",
        "print(X)\n",
        "# Split the data into training and testing sets\n",
        "X_train, X_test, y_train, y_test = train_test_split(X, y, test_size=0.4, random_state=42)\n",
        "#X_train,X_val,y_train,y_val= train_test_split(X_train, y_train, test_size=0.2, random_state=42)"
      ],
      "metadata": {
        "id": "D22FwK6nrsKf",
        "colab": {
          "base_uri": "https://localhost:8080/"
        },
        "outputId": "576ea17c-22fa-4805-f7fe-d09d82c30826"
      },
      "execution_count": null,
      "outputs": [
        {
          "output_type": "stream",
          "name": "stdout",
          "text": [
            "Index(['Tumor_Seq_Allele2', 'ref_context_0', 'ref_context_1', 'ref_context_2',\n",
            "       'ref_context_3', 'ref_context_4', 'ref_context_5', 'ref_context_6',\n",
            "       'ref_context_7', 'ref_context_8', 'ref_context_9', 'ref_context_10',\n",
            "       'ref_context_11', 'ref_context_12', 'ref_context_13', 'ref_context_14',\n",
            "       'ref_context_15', 'ref_context_16', 'ref_context_17', 'ref_context_18',\n",
            "       'ref_context_19', 'ref_context_20'],\n",
            "      dtype='object')\n",
            "       Tumor_Seq_Allele2  ref_context_0  ref_context_1  ref_context_2  \\\n",
            "0                    417              3              3              3   \n",
            "1                    417              3              3              3   \n",
            "2                      0              0              0              3   \n",
            "3                    417              1              1              2   \n",
            "4                    287              0              3              1   \n",
            "...                  ...            ...            ...            ...   \n",
            "48561                  0              3              3              0   \n",
            "48562                169              2              0              1   \n",
            "48563                417              3              2              0   \n",
            "48564                245              3              3              3   \n",
            "48565                161              3              2              1   \n",
            "\n",
            "       ref_context_3  ref_context_4  ref_context_5  ref_context_6  \\\n",
            "0                  3              3              1              1   \n",
            "1                  3              1              1              3   \n",
            "2                  2              3              2              3   \n",
            "3                  1              1              1              1   \n",
            "4                  1              1              0              3   \n",
            "...              ...            ...            ...            ...   \n",
            "48561              1              0              0              3   \n",
            "48562              3              1              0              0   \n",
            "48563              2              0              0              2   \n",
            "48564              1              3              0              2   \n",
            "48565              0              2              1              1   \n",
            "\n",
            "       ref_context_7  ref_context_8  ...  ref_context_11  ref_context_12  \\\n",
            "0                  3              2  ...               2               3   \n",
            "1                  3              3  ...               2               2   \n",
            "2                  2              2  ...               3               3   \n",
            "3                  3              2  ...               1               2   \n",
            "4                  1              1  ...               2               3   \n",
            "...              ...            ...  ...             ...             ...   \n",
            "48561              1              3  ...               0               0   \n",
            "48562              2              1  ...               0               1   \n",
            "48563              0              2  ...               3               3   \n",
            "48564              2              1  ...               3               1   \n",
            "48565              0              3  ...               2               2   \n",
            "\n",
            "       ref_context_13  ref_context_14  ref_context_15  ref_context_16  \\\n",
            "0                   3               3               3               2   \n",
            "1                   3               0               3               0   \n",
            "2                   3               2               0               1   \n",
            "3                   3               2               1               0   \n",
            "4                   0               1               3               0   \n",
            "...               ...             ...             ...             ...   \n",
            "48561               0               0               0               0   \n",
            "48562               1               0               1               1   \n",
            "48563               1               1               0               0   \n",
            "48564               3               1               3               1   \n",
            "48565               2               3               2               3   \n",
            "\n",
            "       ref_context_17  ref_context_18  ref_context_19  ref_context_20  \n",
            "0                   3               0               0               0  \n",
            "1                   3               2               1               0  \n",
            "2                   3               2               0               0  \n",
            "3                   2               1               0               1  \n",
            "4                   0               1               1               0  \n",
            "...               ...             ...             ...             ...  \n",
            "48561               0               0               0               2  \n",
            "48562               0               1               1               0  \n",
            "48563               0               0               3               1  \n",
            "48564               3               1               3               1  \n",
            "48565               1               1               0               0  \n",
            "\n",
            "[48566 rows x 22 columns]\n"
          ]
        }
      ]
    },
    {
      "cell_type": "code",
      "source": [],
      "metadata": {
        "id": "fEqCDO8mYOeh"
      },
      "execution_count": null,
      "outputs": []
    },
    {
      "cell_type": "markdown",
      "source": [
        "Creating a model using the KNN algorithm"
      ],
      "metadata": {
        "id": "t3YDfPf8zdy_"
      }
    },
    {
      "cell_type": "code",
      "source": [
        "import numpy as np\n",
        "from sklearn import datasets\n",
        "from sklearn.model_selection import train_test_split\n",
        "from sklearn.neighbors import KNeighborsClassifier\n",
        "from sklearn.metrics import accuracy_score, classification_report\n",
        "\n",
        "\n",
        "\n",
        "# Create and fit the KNN model\n",
        "model1 = KNeighborsClassifier(n_neighbors=100)\n",
        "model1.fit(X_train, y_train)\n",
        "\n",
        "# Make predictions on the test set\n",
        "y_pred = model.predict(X_test)\n",
        "\n",
        "y_prob=model.predict_proba(X_test)\n",
        "\n",
        "\n",
        "\n",
        "# Evaluate the model's performance\n",
        "accuracy = accuracy_score(y_test, y_pred)\n",
        "#report = classification_report(y_test, y_pred, target_names=iris.target_names)\n",
        "\n",
        "print(\"Accuracy\" ,accuracy)\n",
        "\n"
      ],
      "metadata": {
        "id": "zdJByLLTO4MS",
        "colab": {
          "base_uri": "https://localhost:8080/"
        },
        "outputId": "e288374f-868d-4443-b655-a45fa5e5d9a9"
      },
      "execution_count": null,
      "outputs": [
        {
          "output_type": "stream",
          "name": "stdout",
          "text": [
            "Accuracy 0.8816080712410562\n"
          ]
        }
      ]
    },
    {
      "cell_type": "markdown",
      "source": [
        "We are drawing a roc curve"
      ],
      "metadata": {
        "id": "9ldhRgrbzZhh"
      }
    },
    {
      "cell_type": "code",
      "source": [
        "y_prob=[i[1] for i in y_prob]"
      ],
      "metadata": {
        "id": "1vCRgQYpFJ8s"
      },
      "execution_count": null,
      "outputs": []
    },
    {
      "cell_type": "code",
      "source": [
        "fpr, tpr, thresholds = roc_curve(y_test, y_prob)\n",
        "\n",
        "plt.plot(fpr, tpr)\n",
        "plt.xlabel('False Positive Rate')\n",
        "plt.ylabel('True Positive Rate')"
      ],
      "metadata": {
        "id": "B4No7q62ELOA",
        "colab": {
          "base_uri": "https://localhost:8080/",
          "height": 467
        },
        "outputId": "52cbdd61-eb2d-4f96-d623-6bc02f169350"
      },
      "execution_count": null,
      "outputs": [
        {
          "output_type": "execute_result",
          "data": {
            "text/plain": [
              "Text(0, 0.5, 'True Positive Rate')"
            ]
          },
          "metadata": {},
          "execution_count": 36
        },
        {
          "output_type": "display_data",
          "data": {
            "text/plain": [
              "<Figure size 640x480 with 1 Axes>"
            ],
            "image/png": "[encoded data removed]"
          },
          "metadata": {}
        }
      ]
    },
    {
      "cell_type": "code",
      "source": [],
      "metadata": {
        "id": "SE4N6iIBvxxI"
      },
      "execution_count": null,
      "outputs": []
    },
    {
      "cell_type": "markdown",
      "source": [
        "We are performing stratified K fold cross validation and then training it on bothe logistic regression and kNN model to see which yeilds a better accuracy"
      ],
      "metadata": {
        "id": "EmTf8QzszuQ0"
      }
    },
    {
      "cell_type": "code",
      "source": [
        "skf = StratifiedKFold(n_splits=100, shuffle=True, random_state=1)\n",
        "logistic_accuracy = []\n",
        "kNN_accuracy = []\n",
        "logistic_model = linear_model.LogisticRegression(max_iter=1000)\n",
        "kNN_model = KNeighborsClassifier(n_neighbors=200)\n",
        "\n",
        "for train_index, test_index in skf.split(X_train, y_train):\n",
        "    x_train_fold, x_test_fold = X_train.values[train_index], X_train.values[test_index]\n",
        "    y_train_fold, y_test_fold = y_train.values[train_index], y_train.values[test_index]\n",
        "    logistic_model.fit(x_train_fold, y_train_fold)\n",
        "    kNN_model.fit(x_train_fold, y_train_fold)\n",
        "    logistic_accuracy.append(logistic_model.score(x_test_fold, y_test_fold))\n",
        "    kNN_accuracy.append(kNN_model.score(x_test_fold, y_test_fold))\n",
        "\n",
        "\n",
        "print('KNN accuracy=',max(kNN_accuracy))\n",
        "print('Logistic regression accuracy=',max(logistic_accuracy))"
      ],
      "metadata": {
        "id": "WlxH9-8dPyWc",
        "colab": {
          "base_uri": "https://localhost:8080/"
        },
        "outputId": "7ad9fdc8-1049-44f6-c057-d486596836af"
      },
      "execution_count": null,
      "outputs": [
        {
          "output_type": "stream",
          "name": "stdout",
          "text": [
            "KNN accuracy= 0.9072164948453608\n",
            "Logistic regression accuracy= 0.5567010309278351\n"
          ]
        }
      ]
    },
    {
      "cell_type": "code",
      "source": [],
      "metadata": {
        "id": "0CUNkr-O9ffg"
      },
      "execution_count": null,
      "outputs": []
    },
    {
      "cell_type": "markdown",
      "source": [
        "We are creating a model using the random forest algorithm"
      ],
      "metadata": {
        "id": "PBWQlc7h0eEQ"
      }
    },
    {
      "cell_type": "code",
      "source": [
        "from sklearn.ensemble import RandomForestClassifier\n",
        "from sklearn.model_selection import train_test_split\n",
        "from sklearn.metrics import accuracy_score\n",
        "\n",
        "\n",
        "# Create a Random Forest classifier with 100 trees\n",
        "rf_classifier = RandomForestClassifier(n_estimators=100)\n",
        "\n",
        "# Train the classifier\n",
        "rf_classifier.fit(X_train, y_train)\n",
        "\n",
        "# Make predictions on the test set\n",
        "y_pred2=rf_classifier.predict(X_test)\n",
        "y_prob2=rf_classifier.predict_proba(X_test)\n",
        "\n",
        "# Calculate the accuracy of the classifier\n",
        "accuracy1 = accuracy_score(y_test, y_pred2)\n",
        "\n",
        "print(\"Accuracy:\", accuracy1)\n",
        "\n"
      ],
      "metadata": {
        "colab": {
          "base_uri": "https://localhost:8080/"
        },
        "id": "jeLAJ-hGFhCl",
        "outputId": "3e9b7847-e8dc-4cac-f908-68de0b1358d4"
      },
      "execution_count": null,
      "outputs": [
        {
          "output_type": "stream",
          "name": "stdout",
          "text": [
            "Accuracy: 0.9727183816338086\n"
          ]
        }
      ]
    },
    {
      "cell_type": "markdown",
      "source": [
        "ROC Curve for Random forest model"
      ],
      "metadata": {
        "id": "Oe3ypUOK8dCf"
      }
    },
    {
      "cell_type": "code",
      "source": [
        "y_prob2=[i[1] for i in y_prob2]"
      ],
      "metadata": {
        "id": "PUJEW-8WLU_N"
      },
      "execution_count": null,
      "outputs": []
    },
    {
      "cell_type": "code",
      "source": [
        "fpr, tpr, thresholds = 1\n",
        "\n",
        "plt.plot(fpr, tpr)\n",
        "plt.xlabel('False Positive Rate')\n",
        "plt.ylabel('True Positive Rate')"
      ],
      "metadata": {
        "id": "bltZi3OqLXNb"
      },
      "execution_count": null,
      "outputs": []
    },
    {
      "cell_type": "markdown",
      "source": [
        "LGBM Model"
      ],
      "metadata": {
        "id": "9OhSJgnD8YzI"
      }
    },
    {
      "cell_type": "code",
      "source": [
        "pip install lightgbm"
      ],
      "metadata": {
        "id": "e9w3uOK7IFDy"
      },
      "execution_count": null,
      "outputs": []
    },
    {
      "cell_type": "code",
      "source": [
        "\n",
        "\n",
        "# Create the LightGBM model\n",
        "model = lgb.LGBMClassifier(\n",
        "    num_leaves=31,\n",
        "    max_depth=-1,\n",
        "    learning_rate=0.1,\n",
        "    n_estimators=100,\n",
        ")\n",
        "\n",
        "# Train the model\n",
        "model.fit(X_train, y_train)\n",
        "\n",
        "# Evaluate the model on the test set\n",
        "score = model.score(X_test, y_test)\n",
        "\n",
        "print('Test score:', score)\n",
        "y_prob2=model.predict_proba(X_test)\n",
        "\n"
      ],
      "metadata": {
        "colab": {
          "base_uri": "https://localhost:8080/"
        },
        "id": "84UAwILxGSPd",
        "outputId": "bdfa5c83-a985-44d5-81f5-d92aac0c4060"
      },
      "execution_count": null,
      "outputs": [
        {
          "output_type": "stream",
          "name": "stdout",
          "text": [
            "Test score: 0.9977351109280898\n"
          ]
        }
      ]
    },
    {
      "cell_type": "markdown",
      "source": [
        "Training Accuracy for LGBM"
      ],
      "metadata": {
        "id": "Gk1DLTFi8DMD"
      }
    },
    {
      "cell_type": "code",
      "source": [
        "y_pred1 = model.predict(X_train)\n",
        "\n",
        "# Evaluate the model's performance\n",
        "accuracy = accuracy_score(y_train, y_pred1)\n",
        "accuracy"
      ],
      "metadata": {
        "colab": {
          "base_uri": "https://localhost:8080/"
        },
        "id": "TYFPk-mO5NKq",
        "outputId": "b89e944b-63e5-4a93-edf0-9f275c2d2c88"
      },
      "execution_count": null,
      "outputs": [
        {
          "output_type": "execute_result",
          "data": {
            "text/plain": [
              "0.9997254538590892"
            ]
          },
          "metadata": {},
          "execution_count": 41
        }
      ]
    },
    {
      "cell_type": "markdown",
      "source": [
        "Test Accuracy for LGBM"
      ],
      "metadata": {
        "id": "lgSReIIq8I5M"
      }
    },
    {
      "cell_type": "code",
      "source": [
        "y_pred = model.predict(X_test)\n",
        "\n",
        "# Evaluate the model's performance\n",
        "accuracy = accuracy_score(y_test, y_pred)\n",
        "accuracy"
      ],
      "metadata": {
        "colab": {
          "base_uri": "https://localhost:8080/"
        },
        "id": "T5eBOpFt4wwu",
        "outputId": "b6d672f6-7b80-4625-cd34-9bec6a470fbc"
      },
      "execution_count": null,
      "outputs": [
        {
          "output_type": "execute_result",
          "data": {
            "text/plain": [
              "0.9977351109280898"
            ]
          },
          "metadata": {},
          "execution_count": 42
        }
      ]
    },
    {
      "cell_type": "markdown",
      "source": [
        "ROC Curve for LGBM"
      ],
      "metadata": {
        "id": "_dsujiH88NwO"
      }
    },
    {
      "cell_type": "code",
      "source": [
        "y_prob2=[i[1] for i in y_prob2]"
      ],
      "metadata": {
        "id": "wt9gd8QrLTxS"
      },
      "execution_count": null,
      "outputs": []
    },
    {
      "cell_type": "code",
      "source": [
        "fpr, tpr, thresholds = roc_curve(y_test, y_prob2)\n",
        "\n",
        "plt.plot(fpr, tpr)\n",
        "plt.xlabel('False Positive Rate')\n",
        "plt.ylabel('True Positive Rate')"
      ],
      "metadata": {
        "colab": {
          "base_uri": "https://localhost:8080/",
          "height": 467
        },
        "id": "rdVcnnU0LXwz",
        "outputId": "7837ee76-dd1c-4862-be05-70ee41474c27"
      },
      "execution_count": null,
      "outputs": [
        {
          "output_type": "execute_result",
          "data": {
            "text/plain": [
              "Text(0, 0.5, 'True Positive Rate')"
            ]
          },
          "metadata": {},
          "execution_count": 46
        },
        {
          "output_type": "display_data",
          "data": {
            "text/plain": [
              "<Figure size 640x480 with 1 Axes>"
            ],
            "image/png": "[encoded data removed]"
          },
          "metadata": {}
        }
      ]
    },
    {
      "cell_type": "markdown",
      "source": [
        "AUC:"
      ],
      "metadata": {
        "id": "Dy0Xds8P8T-v"
      }
    },
    {
      "cell_type": "code",
      "source": [
        "auc = roc_auc_score(y_test, y_prob2)\n",
        "print(\"AUC:\", auc)"
      ],
      "metadata": {
        "id": "aWgjP-B98S5x"
      },
      "execution_count": null,
      "outputs": []
    }
  ]
}